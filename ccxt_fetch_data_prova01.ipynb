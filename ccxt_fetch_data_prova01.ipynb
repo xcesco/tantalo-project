{
 "cells": [
  {
   "cell_type": "code",
   "execution_count": 1,
   "outputs": [
    {
     "name": "stdout",
     "output_type": "stream",
     "text": [
      "ccxt version 2.4.18\n"
     ]
    }
   ],
   "source": [
    "import ccxt\n",
    "import pandas as pd\n",
    "import pprint\n",
    "import datetime\n",
    "print ('ccxt version', ccxt.__version__)\n",
    "\n",
    "# From timestamp to Datetime\n",
    "def convert_from_ms(value):\n",
    "    return datetime.datetime.fromtimestamp(value)"
   ],
   "metadata": {
    "collapsed": false
   }
  },
  {
   "cell_type": "code",
   "execution_count": 3,
   "id": "b9cd23be",
   "metadata": {},
   "outputs": [
    {
     "name": "stdout",
     "output_type": "stream",
     "text": [
      "numero mercati: 2131\n"
     ]
    }
   ],
   "source": [
    "exchange = ccxt.coinbase()\n",
    "markets= exchange.load_markets()\n",
    "print(f\"numero mercati: {len(markets)}\")"
   ]
  },
  {
   "cell_type": "code",
   "execution_count": 4,
   "id": "b5c40f70",
   "metadata": {},
   "outputs": [
    {
     "data": {
      "text/plain": "                         timestamp      open      high       low     close  \\\ndate_parsed                                                                  \n2022-12-15 22:40:00  1671140400000  17399.98  17408.12  17395.07  17407.20   \n2022-12-15 22:41:00  1671140460000  17407.20  17408.13  17403.14  17403.54   \n2022-12-15 22:42:00  1671140520000  17403.14  17405.53  17402.70  17405.25   \n2022-12-15 22:43:00  1671140580000  17405.25  17405.25  17392.64  17395.71   \n2022-12-15 22:44:00  1671140640000  17395.71  17398.62  17355.83  17372.93   \n...                            ...       ...       ...       ...       ...   \n2022-12-16 15:15:00  1671200100000  16959.52  16960.95  16950.47  16954.78   \n2022-12-16 15:16:00  1671200160000  16954.09  16964.42  16953.94  16958.97   \n2022-12-16 15:17:00  1671200220000  16958.42  16962.53  16951.71  16961.38   \n2022-12-16 15:18:00  1671200280000  16961.61  16962.50  16890.46  16918.13   \n2022-12-16 15:19:00  1671200340000  16918.13  16922.20  16915.25  16920.13   \n\n                         volume  \ndate_parsed                      \n2022-12-15 22:40:00   172.07853  \n2022-12-15 22:41:00    59.20292  \n2022-12-15 22:42:00    40.22916  \n2022-12-15 22:43:00   234.04937  \n2022-12-15 22:44:00   741.13985  \n...                         ...  \n2022-12-16 15:15:00   101.60076  \n2022-12-16 15:16:00   192.05533  \n2022-12-16 15:17:00   124.98174  \n2022-12-16 15:18:00  1416.60128  \n2022-12-16 15:19:00    29.63090  \n\n[1000 rows x 6 columns]",
      "text/html": "<div>\n<style scoped>\n    .dataframe tbody tr th:only-of-type {\n        vertical-align: middle;\n    }\n\n    .dataframe tbody tr th {\n        vertical-align: top;\n    }\n\n    .dataframe thead th {\n        text-align: right;\n    }\n</style>\n<table border=\"1\" class=\"dataframe\">\n  <thead>\n    <tr style=\"text-align: right;\">\n      <th></th>\n      <th>timestamp</th>\n      <th>open</th>\n      <th>high</th>\n      <th>low</th>\n      <th>close</th>\n      <th>volume</th>\n    </tr>\n    <tr>\n      <th>date_parsed</th>\n      <th></th>\n      <th></th>\n      <th></th>\n      <th></th>\n      <th></th>\n      <th></th>\n    </tr>\n  </thead>\n  <tbody>\n    <tr>\n      <th>2022-12-15 22:40:00</th>\n      <td>1671140400000</td>\n      <td>17399.98</td>\n      <td>17408.12</td>\n      <td>17395.07</td>\n      <td>17407.20</td>\n      <td>172.07853</td>\n    </tr>\n    <tr>\n      <th>2022-12-15 22:41:00</th>\n      <td>1671140460000</td>\n      <td>17407.20</td>\n      <td>17408.13</td>\n      <td>17403.14</td>\n      <td>17403.54</td>\n      <td>59.20292</td>\n    </tr>\n    <tr>\n      <th>2022-12-15 22:42:00</th>\n      <td>1671140520000</td>\n      <td>17403.14</td>\n      <td>17405.53</td>\n      <td>17402.70</td>\n      <td>17405.25</td>\n      <td>40.22916</td>\n    </tr>\n    <tr>\n      <th>2022-12-15 22:43:00</th>\n      <td>1671140580000</td>\n      <td>17405.25</td>\n      <td>17405.25</td>\n      <td>17392.64</td>\n      <td>17395.71</td>\n      <td>234.04937</td>\n    </tr>\n    <tr>\n      <th>2022-12-15 22:44:00</th>\n      <td>1671140640000</td>\n      <td>17395.71</td>\n      <td>17398.62</td>\n      <td>17355.83</td>\n      <td>17372.93</td>\n      <td>741.13985</td>\n    </tr>\n    <tr>\n      <th>...</th>\n      <td>...</td>\n      <td>...</td>\n      <td>...</td>\n      <td>...</td>\n      <td>...</td>\n      <td>...</td>\n    </tr>\n    <tr>\n      <th>2022-12-16 15:15:00</th>\n      <td>1671200100000</td>\n      <td>16959.52</td>\n      <td>16960.95</td>\n      <td>16950.47</td>\n      <td>16954.78</td>\n      <td>101.60076</td>\n    </tr>\n    <tr>\n      <th>2022-12-16 15:16:00</th>\n      <td>1671200160000</td>\n      <td>16954.09</td>\n      <td>16964.42</td>\n      <td>16953.94</td>\n      <td>16958.97</td>\n      <td>192.05533</td>\n    </tr>\n    <tr>\n      <th>2022-12-16 15:17:00</th>\n      <td>1671200220000</td>\n      <td>16958.42</td>\n      <td>16962.53</td>\n      <td>16951.71</td>\n      <td>16961.38</td>\n      <td>124.98174</td>\n    </tr>\n    <tr>\n      <th>2022-12-16 15:18:00</th>\n      <td>1671200280000</td>\n      <td>16961.61</td>\n      <td>16962.50</td>\n      <td>16890.46</td>\n      <td>16918.13</td>\n      <td>1416.60128</td>\n    </tr>\n    <tr>\n      <th>2022-12-16 15:19:00</th>\n      <td>1671200340000</td>\n      <td>16918.13</td>\n      <td>16922.20</td>\n      <td>16915.25</td>\n      <td>16920.13</td>\n      <td>29.63090</td>\n    </tr>\n  </tbody>\n</table>\n<p>1000 rows × 6 columns</p>\n</div>"
     },
     "metadata": {},
     "output_type": "display_data"
    }
   ],
   "source": [
    "symbol='BTC/USDT'\n",
    "\n",
    "ohlcv=exchange.fetch_ohlcv(symbol,'1m', limit=1000)\n",
    "if len(ohlcv):\n",
    "    df = pd.DataFrame(ohlcv, columns=['timestamp','open','high','low','close','volume'])\n",
    "    #df['datetime']=pd.to_datetime(df['timestamp'],unit='ms')\n",
    "    df['date_parsed']=(df['timestamp']/1000).apply(convert_from_ms)\n",
    "    #df['date']=instrument['date_parsed']\n",
    "    df.index = df['date_parsed']\n",
    "    df.drop('date_parsed', axis=1, inplace=True)\n",
    "    \n",
    "display(df)"
   ]
  },
  {
   "cell_type": "code",
   "execution_count": 4,
   "id": "30159c91",
   "metadata": {},
   "outputs": [],
   "source": []
  }
 ],
 "metadata": {
  "kernelspec": {
   "display_name": "Python 3 (ipykernel)",
   "language": "python",
   "name": "python3"
  },
  "language_info": {
   "codemirror_mode": {
    "name": "ipython",
    "version": 3
   },
   "file_extension": ".py",
   "mimetype": "text/x-python",
   "name": "python",
   "nbconvert_exporter": "python",
   "pygments_lexer": "ipython3",
   "version": "3.9.6"
  }
 },
 "nbformat": 4,
 "nbformat_minor": 5
}
